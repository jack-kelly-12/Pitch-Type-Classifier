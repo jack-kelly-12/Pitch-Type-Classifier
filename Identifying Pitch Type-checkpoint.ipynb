{
 "cells": [
  {
   "cell_type": "markdown",
   "id": "6373aaf0",
   "metadata": {},
   "source": [
    "# Pitch Type Classifier \n",
    "\n",
    "The following notebook uses one month (April) of data from the 2022 season to determine what pitch is being thrown based on features like velocity, spin rate, spin axis, handedness, etc. \n",
    "\n",
    "This could prove to be very useful to automate pitch tagging. Instead of a human tagging 200+ pitches a game for pitchers who may have an unknown arsenal, one could use this model instead."
   ]
  },
  {
   "cell_type": "code",
   "execution_count": 162,
   "id": "933542d8",
   "metadata": {},
   "outputs": [
    {
     "name": "stdout",
     "output_type": "stream",
     "text": [
      "This is a large query, it may take a moment to complete\n"
     ]
    },
    {
     "name": "stderr",
     "output_type": "stream",
     "text": [
      "100%|██████████████████████████████████████████████████████████████████████████████████| 24/24 [00:08<00:00,  2.72it/s]\n"
     ]
    }
   ],
   "source": [
    "# Load packages\n",
    "import pandas as pd\n",
    "from pybaseball import statcast, statcast_pitcher, playerid_lookup\n",
    "from sklearn.model_selection import train_test_split\n",
    "import numpy as np\n",
    "import warnings\n",
    "warnings.filterwarnings('ignore')\n",
    "\n",
    "# One month worth of data from 2022 season\n",
    "sc_data = statcast('2022-04-07', '2022-04-30')"
   ]
  },
  {
   "cell_type": "markdown",
   "id": "6a4c66c6",
   "metadata": {},
   "source": [
    "# Preprocessing\n",
    "\n",
    "In order to build a model to classify pitch type, I had to encode the pitch name. I grouped fastballs and offspeed pitches seperately. I also drop all null values and drop all columns with irrelevant data for the purposes of this project. \n",
    "\n",
    "This encoding takes care of all pitches in this data set, but I ran into problems later on with pitchouts and unknown pitch names, so I dropped all remaining rows that were left after encoding the 10 pitches. Also not included are generic fastball type and eephus pitches due to low sample size.\n",
    "\n",
    "Different from my 1.0 version of this model, I included pitcher handedness. Adding handedness to this model makes sense: right handed cutters could be confused for left handed two seamers for example, but surprisingly, this did not increase the accuracy of the model at all."
   ]
  },
  {
   "cell_type": "code",
   "execution_count": 163,
   "id": "acb1e40e",
   "metadata": {},
   "outputs": [
    {
     "data": {
      "text/html": [
       "<div>\n",
       "<style scoped>\n",
       "    .dataframe tbody tr th:only-of-type {\n",
       "        vertical-align: middle;\n",
       "    }\n",
       "\n",
       "    .dataframe tbody tr th {\n",
       "        vertical-align: top;\n",
       "    }\n",
       "\n",
       "    .dataframe thead th {\n",
       "        text-align: right;\n",
       "    }\n",
       "</style>\n",
       "<table border=\"1\" class=\"dataframe\">\n",
       "  <thead>\n",
       "    <tr style=\"text-align: right;\">\n",
       "      <th></th>\n",
       "      <th>pitcher</th>\n",
       "      <th>release_spin_rate</th>\n",
       "      <th>vx0</th>\n",
       "      <th>vy0</th>\n",
       "      <th>vz0</th>\n",
       "      <th>ax</th>\n",
       "      <th>ay</th>\n",
       "      <th>az</th>\n",
       "      <th>release_speed</th>\n",
       "      <th>pitch_name</th>\n",
       "      <th>spin_axis</th>\n",
       "      <th>pfx_x</th>\n",
       "      <th>pfx_z</th>\n",
       "      <th>effective_speed</th>\n",
       "      <th>pitch_type</th>\n",
       "      <th>strikes</th>\n",
       "      <th>balls</th>\n",
       "      <th>p_throws</th>\n",
       "    </tr>\n",
       "  </thead>\n",
       "  <tbody>\n",
       "    <tr>\n",
       "      <th>0</th>\n",
       "      <td>617228</td>\n",
       "      <td>2085</td>\n",
       "      <td>3.822453</td>\n",
       "      <td>-137.072765</td>\n",
       "      <td>-3.849161</td>\n",
       "      <td>-9.234918</td>\n",
       "      <td>31.152066</td>\n",
       "      <td>-14.360307</td>\n",
       "      <td>94.2</td>\n",
       "      <td>0.0</td>\n",
       "      <td>210</td>\n",
       "      <td>-0.66</td>\n",
       "      <td>1.36</td>\n",
       "      <td>94.3</td>\n",
       "      <td>FF</td>\n",
       "      <td>1</td>\n",
       "      <td>2</td>\n",
       "      <td>0</td>\n",
       "    </tr>\n",
       "    <tr>\n",
       "      <th>1</th>\n",
       "      <td>617228</td>\n",
       "      <td>2017</td>\n",
       "      <td>3.308936</td>\n",
       "      <td>-135.653345</td>\n",
       "      <td>-1.805759</td>\n",
       "      <td>-9.001654</td>\n",
       "      <td>31.792791</td>\n",
       "      <td>-14.859073</td>\n",
       "      <td>93.2</td>\n",
       "      <td>0.0</td>\n",
       "      <td>212</td>\n",
       "      <td>-0.67</td>\n",
       "      <td>1.39</td>\n",
       "      <td>93.0</td>\n",
       "      <td>FF</td>\n",
       "      <td>1</td>\n",
       "      <td>1</td>\n",
       "      <td>0</td>\n",
       "    </tr>\n",
       "    <tr>\n",
       "      <th>2</th>\n",
       "      <td>617228</td>\n",
       "      <td>2139</td>\n",
       "      <td>5.145245</td>\n",
       "      <td>-137.942779</td>\n",
       "      <td>-8.071345</td>\n",
       "      <td>-11.237054</td>\n",
       "      <td>32.47774</td>\n",
       "      <td>-13.701941</td>\n",
       "      <td>94.9</td>\n",
       "      <td>0.0</td>\n",
       "      <td>211</td>\n",
       "      <td>-0.79</td>\n",
       "      <td>1.32</td>\n",
       "      <td>94.9</td>\n",
       "      <td>FF</td>\n",
       "      <td>0</td>\n",
       "      <td>1</td>\n",
       "      <td>0</td>\n",
       "    </tr>\n",
       "    <tr>\n",
       "      <th>3</th>\n",
       "      <td>617228</td>\n",
       "      <td>2097</td>\n",
       "      <td>8.459655</td>\n",
       "      <td>-134.57189</td>\n",
       "      <td>-6.962331</td>\n",
       "      <td>-8.660473</td>\n",
       "      <td>29.943959</td>\n",
       "      <td>-15.399299</td>\n",
       "      <td>92.7</td>\n",
       "      <td>0.0</td>\n",
       "      <td>207</td>\n",
       "      <td>-0.56</td>\n",
       "      <td>1.27</td>\n",
       "      <td>92.7</td>\n",
       "      <td>FF</td>\n",
       "      <td>0</td>\n",
       "      <td>0</td>\n",
       "      <td>0</td>\n",
       "    </tr>\n",
       "    <tr>\n",
       "      <th>4</th>\n",
       "      <td>605347</td>\n",
       "      <td>2331</td>\n",
       "      <td>4.636656</td>\n",
       "      <td>-123.944638</td>\n",
       "      <td>-0.386972</td>\n",
       "      <td>2.870882</td>\n",
       "      <td>25.317741</td>\n",
       "      <td>-42.252764</td>\n",
       "      <td>85.1</td>\n",
       "      <td>60.0</td>\n",
       "      <td>42</td>\n",
       "      <td>0.37</td>\n",
       "      <td>-0.97</td>\n",
       "      <td>84.7</td>\n",
       "      <td>KC</td>\n",
       "      <td>0</td>\n",
       "      <td>0</td>\n",
       "      <td>0</td>\n",
       "    </tr>\n",
       "    <tr>\n",
       "      <th>...</th>\n",
       "      <td>...</td>\n",
       "      <td>...</td>\n",
       "      <td>...</td>\n",
       "      <td>...</td>\n",
       "      <td>...</td>\n",
       "      <td>...</td>\n",
       "      <td>...</td>\n",
       "      <td>...</td>\n",
       "      <td>...</td>\n",
       "      <td>...</td>\n",
       "      <td>...</td>\n",
       "      <td>...</td>\n",
       "      <td>...</td>\n",
       "      <td>...</td>\n",
       "      <td>...</td>\n",
       "      <td>...</td>\n",
       "      <td>...</td>\n",
       "      <td>...</td>\n",
       "    </tr>\n",
       "    <tr>\n",
       "      <th>91459</th>\n",
       "      <td>660271</td>\n",
       "      <td>1314</td>\n",
       "      <td>2.903163</td>\n",
       "      <td>-133.823709</td>\n",
       "      <td>-4.599003</td>\n",
       "      <td>-4.20002</td>\n",
       "      <td>23.66655</td>\n",
       "      <td>-30.580581</td>\n",
       "      <td>91.8</td>\n",
       "      <td>30.0</td>\n",
       "      <td>234</td>\n",
       "      <td>-0.3</td>\n",
       "      <td>0.08</td>\n",
       "      <td>93.8</td>\n",
       "      <td>FS</td>\n",
       "      <td>2</td>\n",
       "      <td>2</td>\n",
       "      <td>0</td>\n",
       "    </tr>\n",
       "    <tr>\n",
       "      <th>91460</th>\n",
       "      <td>660271</td>\n",
       "      <td>2440</td>\n",
       "      <td>1.715667</td>\n",
       "      <td>-126.691081</td>\n",
       "      <td>-4.680738</td>\n",
       "      <td>11.802514</td>\n",
       "      <td>22.704431</td>\n",
       "      <td>-25.935414</td>\n",
       "      <td>86.9</td>\n",
       "      <td>40.0</td>\n",
       "      <td>92</td>\n",
       "      <td>1.11</td>\n",
       "      <td>0.51</td>\n",
       "      <td>88.6</td>\n",
       "      <td>SL</td>\n",
       "      <td>1</td>\n",
       "      <td>2</td>\n",
       "      <td>0</td>\n",
       "    </tr>\n",
       "    <tr>\n",
       "      <th>91461</th>\n",
       "      <td>660271</td>\n",
       "      <td>2320</td>\n",
       "      <td>10.013029</td>\n",
       "      <td>-144.212678</td>\n",
       "      <td>-7.642544</td>\n",
       "      <td>-1.416227</td>\n",
       "      <td>28.775681</td>\n",
       "      <td>-19.306867</td>\n",
       "      <td>99.2</td>\n",
       "      <td>0.0</td>\n",
       "      <td>207</td>\n",
       "      <td>0.04</td>\n",
       "      <td>0.81</td>\n",
       "      <td>100.7</td>\n",
       "      <td>FF</td>\n",
       "      <td>1</td>\n",
       "      <td>1</td>\n",
       "      <td>0</td>\n",
       "    </tr>\n",
       "    <tr>\n",
       "      <th>91462</th>\n",
       "      <td>660271</td>\n",
       "      <td>2164</td>\n",
       "      <td>4.033907</td>\n",
       "      <td>-142.625616</td>\n",
       "      <td>-7.606169</td>\n",
       "      <td>0.276497</td>\n",
       "      <td>27.659035</td>\n",
       "      <td>-16.289654</td>\n",
       "      <td>97.9</td>\n",
       "      <td>0.0</td>\n",
       "      <td>206</td>\n",
       "      <td>0.08</td>\n",
       "      <td>1.06</td>\n",
       "      <td>99.9</td>\n",
       "      <td>FF</td>\n",
       "      <td>0</td>\n",
       "      <td>1</td>\n",
       "      <td>0</td>\n",
       "    </tr>\n",
       "    <tr>\n",
       "      <th>91463</th>\n",
       "      <td>660271</td>\n",
       "      <td>2182</td>\n",
       "      <td>10.188366</td>\n",
       "      <td>-144.408683</td>\n",
       "      <td>-14.054653</td>\n",
       "      <td>-4.840636</td>\n",
       "      <td>31.663328</td>\n",
       "      <td>-14.074882</td>\n",
       "      <td>99.8</td>\n",
       "      <td>0.0</td>\n",
       "      <td>215</td>\n",
       "      <td>-0.19</td>\n",
       "      <td>1.07</td>\n",
       "      <td>100.9</td>\n",
       "      <td>FF</td>\n",
       "      <td>0</td>\n",
       "      <td>0</td>\n",
       "      <td>0</td>\n",
       "    </tr>\n",
       "  </tbody>\n",
       "</table>\n",
       "<p>91464 rows × 18 columns</p>\n",
       "</div>"
      ],
      "text/plain": [
       "       pitcher  release_spin_rate        vx0         vy0        vz0  \\\n",
       "0       617228               2085   3.822453 -137.072765  -3.849161   \n",
       "1       617228               2017   3.308936 -135.653345  -1.805759   \n",
       "2       617228               2139   5.145245 -137.942779  -8.071345   \n",
       "3       617228               2097   8.459655  -134.57189  -6.962331   \n",
       "4       605347               2331   4.636656 -123.944638  -0.386972   \n",
       "...        ...                ...        ...         ...        ...   \n",
       "91459   660271               1314   2.903163 -133.823709  -4.599003   \n",
       "91460   660271               2440   1.715667 -126.691081  -4.680738   \n",
       "91461   660271               2320  10.013029 -144.212678  -7.642544   \n",
       "91462   660271               2164   4.033907 -142.625616  -7.606169   \n",
       "91463   660271               2182  10.188366 -144.408683 -14.054653   \n",
       "\n",
       "              ax         ay         az  release_speed  pitch_name  spin_axis  \\\n",
       "0      -9.234918  31.152066 -14.360307           94.2         0.0        210   \n",
       "1      -9.001654  31.792791 -14.859073           93.2         0.0        212   \n",
       "2     -11.237054   32.47774 -13.701941           94.9         0.0        211   \n",
       "3      -8.660473  29.943959 -15.399299           92.7         0.0        207   \n",
       "4       2.870882  25.317741 -42.252764           85.1        60.0         42   \n",
       "...          ...        ...        ...            ...         ...        ...   \n",
       "91459   -4.20002   23.66655 -30.580581           91.8        30.0        234   \n",
       "91460  11.802514  22.704431 -25.935414           86.9        40.0         92   \n",
       "91461  -1.416227  28.775681 -19.306867           99.2         0.0        207   \n",
       "91462   0.276497  27.659035 -16.289654           97.9         0.0        206   \n",
       "91463  -4.840636  31.663328 -14.074882           99.8         0.0        215   \n",
       "\n",
       "       pfx_x  pfx_z  effective_speed pitch_type  strikes  balls  p_throws  \n",
       "0      -0.66   1.36             94.3         FF        1      2         0  \n",
       "1      -0.67   1.39             93.0         FF        1      1         0  \n",
       "2      -0.79   1.32             94.9         FF        0      1         0  \n",
       "3      -0.56   1.27             92.7         FF        0      0         0  \n",
       "4       0.37  -0.97             84.7         KC        0      0         0  \n",
       "...      ...    ...              ...        ...      ...    ...       ...  \n",
       "91459   -0.3   0.08             93.8         FS        2      2         0  \n",
       "91460   1.11   0.51             88.6         SL        1      2         0  \n",
       "91461   0.04   0.81            100.7         FF        1      1         0  \n",
       "91462   0.08   1.06             99.9         FF        0      1         0  \n",
       "91463  -0.19   1.07            100.9         FF        0      0         0  \n",
       "\n",
       "[91464 rows x 18 columns]"
      ]
     },
     "execution_count": 163,
     "metadata": {},
     "output_type": "execute_result"
    }
   ],
   "source": [
    "data = sc_data[['pitcher', 'release_spin_rate', 'vx0', 'vy0', 'vz0', 'ax', 'ay', 'az', 'release_speed', 'pitch_name', 'spin_axis', 'pfx_x',\n",
    "       'pfx_z', 'effective_speed', 'pitch_type', 'strikes', 'balls', 'p_throws']]\n",
    "\n",
    "# Encoding all pitch types and throw hand for model\n",
    "data.pitch_name = data.pitch_name.replace({'4-Seam Fastball': 0})\n",
    "data.pitch_name = data.pitch_name.replace({'Sinker': 10})\n",
    "data.pitch_name = data.pitch_name.replace({'Cutter': 20})\n",
    "data.pitch_name = data.pitch_name.replace({'Split-Finger': 30})\n",
    "data.pitch_name = data.pitch_name.replace({'Slider': 40})\n",
    "data.pitch_name = data.pitch_name.replace({'Curveball': 50})\n",
    "data.pitch_name = data.pitch_name.replace({'Knuckle Curve': 60})\n",
    "data.pitch_name = data.pitch_name.replace({'Changeup': 70})\n",
    "data.p_throws = data.p_throws.replace({'R': 0})\n",
    "data.p_throws = data.p_throws.replace({'L': 1})\n",
    "\n",
    "# Handles pitch types that are in the data set, but not encoded above\n",
    "data['pitch_name'] = pd.to_numeric(data['pitch_name'], errors = 'coerce')\n",
    "data = data.dropna()\n",
    "data = data.reset_index(drop=True)\n",
    "\n",
    "data"
   ]
  },
  {
   "cell_type": "markdown",
   "id": "45d1b26e",
   "metadata": {},
   "source": [
    "# Model Building\n",
    "\n",
    "My next step was to build the model. I chose some features that would obviously make sense to have. A pitch is obviously differentiable from other pitches based on its velocity and acceleration in 3 planes, spin axis, and spin rate. Different from my 1.0 model is the dropping of pitch count. It slightly improves the accuracy, but also makes for a more pure model. I also use a RandomizedSearchCV to optimize for the best parameters for my model. This was very time intensive for large data sets, even a month's worth of data took a few minutes. \n",
    "\n",
    "After I found the optimal parameters, I built the model using the training data.\n",
    "\n",
    "Using a Random Forest instead of a Decision Tree improved model accuracy by around 5%.\n",
    "\n",
    "Also, I dropped the count that the pitch was thrown in as well as release speed in my model. I found these both improved model accuracy slightly."
   ]
  },
  {
   "cell_type": "code",
   "execution_count": 164,
   "id": "0ef2fcc7",
   "metadata": {},
   "outputs": [
    {
     "name": "stdout",
     "output_type": "stream",
     "text": [
      "Fitting 5 folds for each of 100 candidates, totalling 500 fits\n",
      "Random grid:  {'n_estimators': [5, 20, 50, 100], 'max_depth': [10, 20, 30, 40, 50, 60, 70, 80, 90, 100, 110, 120], 'min_samples_split': [2, 6, 10], 'bootstrap': [True, False]} \n",
      "\n",
      "Best Parameters:  {'n_estimators': 100, 'min_samples_split': 2, 'max_depth': 30, 'bootstrap': False} \n",
      "\n"
     ]
    }
   ],
   "source": [
    "from sklearn.model_selection import RandomizedSearchCV\n",
    "from sklearn.ensemble import RandomForestClassifier\n",
    "\n",
    "n_estimators = [5, 20, 50, 100]\n",
    "max_depth = [int(x) for x in np.linspace(10, 120, num = 12)]\n",
    "min_samples_split = [2, 6, 10]\n",
    "bootstrap = [True, False]\n",
    "\n",
    "features = ['release_spin_rate', 'vx0', 'vy0', 'vz0', 'ax', 'ay', 'az', 'spin_axis', 'pfx_x', \n",
    "            'pfx_z', 'p_throws', 'release_speed']\n",
    "\n",
    "X = data[features]\n",
    "y = data.pitch_name\n",
    "\n",
    "random_grid = {'n_estimators': n_estimators,\n",
    "\n",
    "'max_depth': max_depth,  \n",
    "\n",
    "'min_samples_split': min_samples_split,\n",
    "\n",
    "'bootstrap': bootstrap}\n",
    "\n",
    "modeltest = RandomForestClassifier()\n",
    "\n",
    "rf_random = RandomizedSearchCV(estimator = modeltest, param_distributions=random_grid, \n",
    "                               n_iter=100, cv=5, verbose=2, random_state=35, n_jobs=-1)\n",
    "\n",
    "train_X, test_X, train_y, test_y = train_test_split(X, y, random_state=0)\n",
    "rf_random.fit(train_X, train_y)\n",
    "\n",
    "print('Random grid: ', random_grid, '\\n')\n",
    "print('Best Parameters: ', rf_random.best_params_, '\\n')"
   ]
  },
  {
   "cell_type": "code",
   "execution_count": 165,
   "id": "b1284ddc",
   "metadata": {},
   "outputs": [
    {
     "data": {
      "text/plain": [
       "RandomForestClassifier(bootstrap=False, max_depth=30)"
      ]
     },
     "execution_count": 165,
     "metadata": {},
     "output_type": "execute_result"
    }
   ],
   "source": [
    "model = RandomForestClassifier(n_estimators=100, min_samples_split=2, max_depth=30, \n",
    "                                bootstrap=False)\n",
    "model.fit(train_X, train_y)"
   ]
  },
  {
   "cell_type": "markdown",
   "id": "e427003b",
   "metadata": {},
   "source": [
    "# Model Grading\n",
    "\n",
    "My model looks to be anywhere from 88-90% accurate. I also included recall and precision as two more metrics to grade my model on. \n",
    "\n",
    "I wanted some insight into what it does best, so I tested it to see how it classifies different fastball and offspeed types. In the data visualization section of this notebook, I added a confusion matrix to perhaps give some more insight on how my model works and what it does best.\n",
    "\n",
    "I was curious how our model would do classifying specific MLB pitcher's pitches. I tested guys on the 99th and 1st percentile of FB velocity and FB spin rate, and two Cy Young candidates.\n",
    "\n",
    "It looks like our model might have a hard time classifying the pitches of pitchers on the high and low ends of fastball velocity. Jhoan Duran has been see to run his fastball a few ticks above 100 mph. Darren O'Day is a side armer whose fastball lives in the mid-to-upper 80 mph range. Perhaps the model has a hard time classifying these guys is because it has a large sample size of data from guys who are MLB average. The model has seen its fair share of 95 mph fastballs. It hasn't seen a large sample of 102 mph fastballs. I hypothesize that if I trained the model on a larger sample size, perhaps even a full season, it would do a better job at classifying edge case FB velocity guys."
   ]
  },
  {
   "cell_type": "code",
   "execution_count": 202,
   "id": "12807667",
   "metadata": {},
   "outputs": [
    {
     "name": "stdout",
     "output_type": "stream",
     "text": [
      "Model accuracy:  0.8862940610513426 \n",
      "\n",
      "Recall:  0.77410734064338 \n",
      "\n",
      "Precision:  0.8413502124008148\n"
     ]
    }
   ],
   "source": [
    "from sklearn.metrics import accuracy_score, recall_score, precision_score\n",
    "\n",
    "predictions = model.predict(test_X)\n",
    "print(\"Model accuracy: \", accuracy_score(test_y, predictions), '\\n')\n",
    "print(\"Recall: \" , recall_score(test_y, predictions, average='macro'), '\\n')\n",
    "print(\"Precision: \", precision_score(test_y, predictions, average='macro'))"
   ]
  },
  {
   "cell_type": "code",
   "execution_count": 167,
   "id": "f570aeb4",
   "metadata": {},
   "outputs": [
    {
     "name": "stdout",
     "output_type": "stream",
     "text": [
      "Fastball accuracy:  0.9749424806525832\n"
     ]
    }
   ],
   "source": [
    "# Grouped fastball pitches together earlier when encoding, they are all <=40\n",
    "fastball_data = data[data['pitch_name'] <= 40]\n",
    "fastball_X = fastball_data[features]\n",
    "fastball_y = fastball_data.pitch_name\n",
    "fb_predictions = model.predict(fastball_X)\n",
    "\n",
    "print(\"Fastball accuracy: \", accuracy_score(fastball_y, fb_predictions))"
   ]
  },
  {
   "cell_type": "code",
   "execution_count": 168,
   "id": "4552aea3",
   "metadata": {},
   "outputs": [
    {
     "name": "stdout",
     "output_type": "stream",
     "text": [
      "Offspeed accuracy:  0.9593397134032103\n"
     ]
    }
   ],
   "source": [
    "# Grouped offspeed pitches together earlier when encoding, they are all > 40.\n",
    "offspeed_data = data[data['pitch_name'] > 40] \n",
    "offspeed_X = offspeed_data[features]\n",
    "offspeed_y = offspeed_data.pitch_name\n",
    "offspeed_predictions = model.predict(offspeed_X)\n",
    "\n",
    "print(\"Offspeed accuracy: \", accuracy_score(offspeed_y, offspeed_predictions))"
   ]
  },
  {
   "cell_type": "code",
   "execution_count": 169,
   "id": "0777e78d",
   "metadata": {},
   "outputs": [],
   "source": [
    "def input_model_test(first_name, last_name):\n",
    "    # Getting accuracy of model based on user inputted 2022 pitcher name\n",
    "    player_info_df = playerid_lookup(last_name.lower(), first_name.lower(), fuzzy=True)\n",
    "    # Gets us the MLB player ID for the given player\n",
    "    id_num = player_info_df.key_mlbam[0]\n",
    "    # Gives us same data as before, but just for the given pitcher\n",
    "    pitcher = statcast_pitcher('2022-04-07', '2022-10-05', id_num)\n",
    "    cols = ['pitcher', 'release_spin_rate', 'vx0', 'vy0', 'vz0', 'ax', 'ay', 'az', 'release_speed', 'pitch_name', 'spin_axis', \n",
    "            'pfx_x', 'pfx_z', 'effective_speed', 'pitch_type', 'strikes', 'balls', 'p_throws']\n",
    "    data = pitcher[cols].dropna()\n",
    "    data = data.reset_index(drop=True) \n",
    "\n",
    "    # Encoding all pitch types and throw hand for model\n",
    "    data.pitch_name = data.pitch_name.replace({'4-Seam Fastball': 0})\n",
    "    data.pitch_name = data.pitch_name.replace({'Sinker': 10})\n",
    "    data.pitch_name = data.pitch_name.replace({'Cutter': 20})\n",
    "    data.pitch_name = data.pitch_name.replace({'Split-Finger': 30})\n",
    "    data.pitch_name = data.pitch_name.replace({'Slider': 40})\n",
    "    data.pitch_name = data.pitch_name.replace({'Curveball': 50})\n",
    "    data.pitch_name = data.pitch_name.replace({'Knuckle Curve': 60})\n",
    "    data.pitch_name = data.pitch_name.replace({'Changeup': 70})\n",
    "    data.p_throws = data.p_throws.replace({'R': 0})\n",
    "    data.p_throws = data.p_throws.replace({'L': 1}) \n",
    "\n",
    "    data['pitch_name'] = pd.to_numeric(data['pitch_name'], errors = 'coerce')\n",
    "    data = data.dropna()\n",
    "    features = ['release_spin_rate', 'vx0', 'vy0', 'vz0', 'ax', 'ay', 'az', 'spin_axis', 'pfx_x', \n",
    "            'pfx_z', 'p_throws', 'release_speed']\n",
    "    X = data[features]\n",
    "    y = data.pitch_name\n",
    "    predictions = model.predict(X)\n",
    "    \n",
    "    print(\"Testing accuracy of model based on {} 2022 pitches\".format(first_name + \" \" + last_name))\n",
    "    print(accuracy_score(y, predictions))\n",
    "    return \"\""
   ]
  },
  {
   "cell_type": "code",
   "execution_count": 170,
   "id": "6bfc8879",
   "metadata": {
    "scrolled": false
   },
   "outputs": [
    {
     "name": "stdout",
     "output_type": "stream",
     "text": [
      "Low end of FB spin rate\n",
      "Gathering Player Data\n",
      "Testing accuracy of model based on Mark Appel 2022 pitches\n",
      "0.8657718120805369\n",
      "\n",
      "High end of FB spin rate\n",
      "Gathering Player Data\n",
      "Testing accuracy of model based on Emmanuel Clase 2022 pitches\n",
      "0.9782608695652174\n",
      "\n",
      "Low end of FB velocity\n",
      "Gathering Player Data\n",
      "Testing accuracy of model based on Darren O'Day 2022 pitches\n",
      "0.9506493506493506\n",
      "\n",
      "High end of FB velocity\n",
      "Gathering Player Data\n",
      "Testing accuracy of model based on Jhoan Duran 2022 pitches\n",
      "0.7390029325513197\n",
      "\n",
      "AL Cy Young candidate\n",
      "Gathering Player Data\n",
      "Testing accuracy of model based on Dylan Cease 2022 pitches\n",
      "0.871474358974359\n",
      "\n",
      "NL Cy Young candidate\n",
      "Gathering Player Data\n",
      "Testing accuracy of model based on Sandy Alcantara 2022 pitches\n",
      "0.826288182659673\n",
      "\n"
     ]
    }
   ],
   "source": [
    "print(\"Low end of FB spin rate\")\n",
    "print(input_model_test('Mark', 'Appel'))\n",
    "\n",
    "print(\"High end of FB spin rate\")\n",
    "print(input_model_test('Emmanuel', 'Clase'))\n",
    "\n",
    "print(\"Low end of FB velocity\")\n",
    "print(input_model_test('Darren', 'O\\'Day'))\n",
    "\n",
    "print(\"High end of FB velocity\")\n",
    "print(input_model_test('Jhoan', 'Duran'))\n",
    "\n",
    "print(\"AL Cy Young candidate\")\n",
    "print(input_model_test('Dylan', 'Cease'))\n",
    "\n",
    "print(\"NL Cy Young candidate\")\n",
    "print(input_model_test('Sandy', 'Alcantara'))"
   ]
  },
  {
   "cell_type": "markdown",
   "id": "8373f23d",
   "metadata": {},
   "source": []
  },
  {
   "cell_type": "markdown",
   "id": "6b83d459",
   "metadata": {},
   "source": [
    "# Data Visualization\n",
    "\n",
    "Now that we have seen how our model does at classifying pitch type, let's visualize some of this data and see how we might approach tweaking our model to make it better.\n",
    "\n",
    "I wanted to see how some of the model features compared to each other by pitch type.\n",
    "\n",
    "It looks like there isn't much distinguishability between pitch movement in one single plane between the pitches, however when combined, the PFX feature does a better job capturing pitch movement profile.\n",
    "\n",
    "Velocity is a big distinguisher between pitch type. However, there are some pitch types with very similar graphs to each other, mainly the graphs of Slider and Changeup and the graphs of Cutter and Sinker. I was curious to see if this caused for some confusion in the model, so I plotted a confusion matrix.\n",
    "\n",
    "Interestingly, sliders were confused for change-ups a lot, but change-ups were not confused with sliders. Also interesting is the fact that most of the confusion happens on opposite pitch types (fastballs confused more with offspeed than itself and vice versa). The two worst classifications were Split-finger pitches (57%) and Slider pitches (54%).\n"
   ]
  },
  {
   "cell_type": "code",
   "execution_count": 171,
   "id": "f899ef77",
   "metadata": {},
   "outputs": [
    {
     "data": {
      "text/plain": [
       "[<matplotlib.lines.Line2D at 0x18709b1f3a0>]"
      ]
     },
     "execution_count": 171,
     "metadata": {},
     "output_type": "execute_result"
    },
    {
     "data": {
      "image/png": "[encoded data removed]",
      "text/plain": [
       "<Figure size 864x504 with 1 Axes>"
      ]
     },
     "metadata": {
      "needs_background": "light"
     },
     "output_type": "display_data"
    },
    {
     "data": {
      "image/png": "[encoded data removed]",
      "text/plain": [
       "<Figure size 864x504 with 1 Axes>"
      ]
     },
     "metadata": {
      "needs_background": "light"
     },
     "output_type": "display_data"
    },
    {
     "data": {
      "image/png": "[encoded data removed]",
      "text/plain": [
       "<Figure size 864x504 with 1 Axes>"
      ]
     },
     "metadata": {
      "needs_background": "light"
     },
     "output_type": "display_data"
    }
   ],
   "source": [
    "import matplotlib.pyplot as plt\n",
    "\n",
    "# Encoding all pitch types back for readability\n",
    "data.pitch_name = data.pitch_name.replace({0: '4-Seam Fastball'})\n",
    "data.pitch_name = data.pitch_name.replace({10: 'Sinker'})\n",
    "data.pitch_name = data.pitch_name.replace({20: 'Cutter'})\n",
    "data.pitch_name = data.pitch_name.replace({30: 'Split-Finger'})\n",
    "data.pitch_name = data.pitch_name.replace({40: 'Slider'})\n",
    "data.pitch_name = data.pitch_name.replace({50: 'Curveball'})\n",
    "data.pitch_name = data.pitch_name.replace({60: 'Knuckle Curve'})\n",
    "data.pitch_name = data.pitch_name.replace({70: 'Changeup'})\n",
    "\n",
    "plt.figure(figsize=(12, 7))\n",
    "plt.title(\"PFX_Z vs. Pitch\")\n",
    "plt.xlabel('pitch name')\n",
    "plt.ylabel('pfx_z')\n",
    "plt.plot(data.pitch_name, data.pfx_z, 'b.')   \n",
    "\n",
    "plt.figure(figsize=(12, 7))\n",
    "plt.title(\"PFX_X vs. Pitch\")\n",
    "plt.xlabel('pitch name')\n",
    "plt.ylabel('pfx_x')\n",
    "plt.plot(data.pitch_name, data.pfx_x, 'b.') \n",
    "\n",
    "plt.figure(figsize=(12, 7))\n",
    "plt.title(\"Velocity vs. Pitch\")\n",
    "plt.xlabel('pitch name')\n",
    "plt.ylabel('velocity')\n",
    "plt.plot(data.pitch_name, data.release_speed, 'b.')  "
   ]
  },
  {
   "cell_type": "code",
   "execution_count": 172,
   "id": "bb7599e9",
   "metadata": {},
   "outputs": [
    {
     "data": {
      "text/plain": [
       "<sklearn.metrics._plot.confusion_matrix.ConfusionMatrixDisplay at 0x187863a9040>"
      ]
     },
     "execution_count": 172,
     "metadata": {},
     "output_type": "execute_result"
    },
    {
     "data": {
      "image/png": "[encoded data removed]",
      "text/plain": [
       "<Figure size 864x864 with 2 Axes>"
      ]
     },
     "metadata": {
      "needs_background": "light"
     },
     "output_type": "display_data"
    }
   ],
   "source": [
    "from sklearn.metrics import ConfusionMatrixDisplay, confusion_matrix\n",
    "import matplotlib.pyplot as plt\n",
    "\n",
    "labels = ['4-Seam Fastball', 'Sinker', 'Cutter', 'Split-Finger', 'Curveball', 'Changeup', 'Slider', 'Knuckle Curve']\n",
    "cm = confusion_matrix(test_y, predictions)\n",
    "cmp = ConfusionMatrixDisplay(cm, display_labels=labels)\n",
    "fig, ax = plt.subplots(figsize=(12,12))\n",
    "cmp.plot(ax=ax)"
   ]
  },
  {
   "cell_type": "markdown",
   "id": "8ca33c9e",
   "metadata": {},
   "source": [
    "# Conclusion\n",
    "\n",
    "To conclude, I think this model has some room for improvement. I think more training data will help improve accuracy. As far as the features, I don't see any features left on the Statcast .csv documentation that would improve the model accuracy. \n",
    "\n",
    "I would be interested to see if the model's accuracy didn't improve with more data, maybe different models for different types of pitchers (one for high velo. high spin guys, one for low velo. low spin guys, etc.). \n",
    "\n",
    "I also am curious to see how this model would fare with data from other tracking systems like Yakkertech or TrackMan. Could this model work for those systems or would one have to build a new model from data from the respective systems? "
   ]
  },
  {
   "cell_type": "code",
   "execution_count": null,
   "id": "b8c34e98",
   "metadata": {},
   "outputs": [],
   "source": []
  }
 ],
 "metadata": {
  "kernelspec": {
   "display_name": "Python 3 (ipykernel)",
   "language": "python",
   "name": "python3"
  },
  "language_info": {
   "codemirror_mode": {
    "name": "ipython",
    "version": 3
   },
   "file_extension": ".py",
   "mimetype": "text/x-python",
   "name": "python",
   "nbconvert_exporter": "python",
   "pygments_lexer": "ipython3",
   "version": "3.9.7"
  }
 },
 "nbformat": 4,
 "nbformat_minor": 5
}
